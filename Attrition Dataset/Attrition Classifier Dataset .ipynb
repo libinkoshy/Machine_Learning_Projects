{
 "cells": [
  {
   "cell_type": "code",
   "execution_count": 1,
   "metadata": {},
   "outputs": [],
   "source": [
    "import pandas as pd\n",
    "import numpy as np\n",
    "import matplotlib.pyplot as plt\n",
    "import seaborn as sns\n",
    "import warnings\n",
    "warnings.filterwarnings(\"ignore\")\n",
    "pd.set_option(\"display.max_columns\",None)"
   ]
  },
  {
   "cell_type": "markdown",
   "metadata": {},
   "source": [
    "## Loading Data"
   ]
  },
  {
   "cell_type": "code",
   "execution_count": 2,
   "metadata": {},
   "outputs": [
    {
     "data": {
      "text/html": [
       "<div>\n",
       "<style scoped>\n",
       "    .dataframe tbody tr th:only-of-type {\n",
       "        vertical-align: middle;\n",
       "    }\n",
       "\n",
       "    .dataframe tbody tr th {\n",
       "        vertical-align: top;\n",
       "    }\n",
       "\n",
       "    .dataframe thead th {\n",
       "        text-align: right;\n",
       "    }\n",
       "</style>\n",
       "<table border=\"1\" class=\"dataframe\">\n",
       "  <thead>\n",
       "    <tr style=\"text-align: right;\">\n",
       "      <th></th>\n",
       "      <th>Age</th>\n",
       "      <th>Attrition</th>\n",
       "      <th>BusinessTravel</th>\n",
       "      <th>DailyRate</th>\n",
       "      <th>Department</th>\n",
       "      <th>DistanceFromHome</th>\n",
       "      <th>Education</th>\n",
       "      <th>EducationField</th>\n",
       "      <th>EmployeeCount</th>\n",
       "      <th>EmployeeNumber</th>\n",
       "      <th>EnvironmentSatisfaction</th>\n",
       "      <th>Gender</th>\n",
       "      <th>HourlyRate</th>\n",
       "      <th>JobInvolvement</th>\n",
       "      <th>JobLevel</th>\n",
       "      <th>JobRole</th>\n",
       "      <th>JobSatisfaction</th>\n",
       "      <th>MaritalStatus</th>\n",
       "      <th>MonthlyIncome</th>\n",
       "      <th>MonthlyRate</th>\n",
       "      <th>NumCompaniesWorked</th>\n",
       "      <th>Over18</th>\n",
       "      <th>OverTime</th>\n",
       "      <th>PercentSalaryHike</th>\n",
       "      <th>PerformanceRating</th>\n",
       "      <th>RelationshipSatisfaction</th>\n",
       "      <th>StandardHours</th>\n",
       "      <th>StockOptionLevel</th>\n",
       "      <th>TotalWorkingYears</th>\n",
       "      <th>TrainingTimesLastYear</th>\n",
       "      <th>WorkLifeBalance</th>\n",
       "      <th>YearsAtCompany</th>\n",
       "      <th>YearsInCurrentRole</th>\n",
       "      <th>YearsSinceLastPromotion</th>\n",
       "      <th>YearsWithCurrManager</th>\n",
       "    </tr>\n",
       "  </thead>\n",
       "  <tbody>\n",
       "    <tr>\n",
       "      <th>0</th>\n",
       "      <td>41</td>\n",
       "      <td>Yes</td>\n",
       "      <td>Travel_Rarely</td>\n",
       "      <td>1102</td>\n",
       "      <td>Sales</td>\n",
       "      <td>1</td>\n",
       "      <td>2</td>\n",
       "      <td>Life Sciences</td>\n",
       "      <td>1</td>\n",
       "      <td>1</td>\n",
       "      <td>2</td>\n",
       "      <td>Female</td>\n",
       "      <td>94</td>\n",
       "      <td>3</td>\n",
       "      <td>2</td>\n",
       "      <td>Sales Executive</td>\n",
       "      <td>4</td>\n",
       "      <td>Single</td>\n",
       "      <td>5993</td>\n",
       "      <td>19479</td>\n",
       "      <td>8</td>\n",
       "      <td>Y</td>\n",
       "      <td>Yes</td>\n",
       "      <td>11</td>\n",
       "      <td>3</td>\n",
       "      <td>1</td>\n",
       "      <td>80</td>\n",
       "      <td>0</td>\n",
       "      <td>8</td>\n",
       "      <td>0</td>\n",
       "      <td>1</td>\n",
       "      <td>6</td>\n",
       "      <td>4</td>\n",
       "      <td>0</td>\n",
       "      <td>5</td>\n",
       "    </tr>\n",
       "    <tr>\n",
       "      <th>1</th>\n",
       "      <td>49</td>\n",
       "      <td>No</td>\n",
       "      <td>Travel_Frequently</td>\n",
       "      <td>279</td>\n",
       "      <td>Research &amp; Development</td>\n",
       "      <td>8</td>\n",
       "      <td>1</td>\n",
       "      <td>Life Sciences</td>\n",
       "      <td>1</td>\n",
       "      <td>2</td>\n",
       "      <td>3</td>\n",
       "      <td>Male</td>\n",
       "      <td>61</td>\n",
       "      <td>2</td>\n",
       "      <td>2</td>\n",
       "      <td>Research Scientist</td>\n",
       "      <td>2</td>\n",
       "      <td>Married</td>\n",
       "      <td>5130</td>\n",
       "      <td>24907</td>\n",
       "      <td>1</td>\n",
       "      <td>Y</td>\n",
       "      <td>No</td>\n",
       "      <td>23</td>\n",
       "      <td>4</td>\n",
       "      <td>4</td>\n",
       "      <td>80</td>\n",
       "      <td>1</td>\n",
       "      <td>10</td>\n",
       "      <td>3</td>\n",
       "      <td>3</td>\n",
       "      <td>10</td>\n",
       "      <td>7</td>\n",
       "      <td>1</td>\n",
       "      <td>7</td>\n",
       "    </tr>\n",
       "    <tr>\n",
       "      <th>2</th>\n",
       "      <td>37</td>\n",
       "      <td>Yes</td>\n",
       "      <td>Travel_Rarely</td>\n",
       "      <td>1373</td>\n",
       "      <td>Research &amp; Development</td>\n",
       "      <td>2</td>\n",
       "      <td>2</td>\n",
       "      <td>Other</td>\n",
       "      <td>1</td>\n",
       "      <td>4</td>\n",
       "      <td>4</td>\n",
       "      <td>Male</td>\n",
       "      <td>92</td>\n",
       "      <td>2</td>\n",
       "      <td>1</td>\n",
       "      <td>Laboratory Technician</td>\n",
       "      <td>3</td>\n",
       "      <td>Single</td>\n",
       "      <td>2090</td>\n",
       "      <td>2396</td>\n",
       "      <td>6</td>\n",
       "      <td>Y</td>\n",
       "      <td>Yes</td>\n",
       "      <td>15</td>\n",
       "      <td>3</td>\n",
       "      <td>2</td>\n",
       "      <td>80</td>\n",
       "      <td>0</td>\n",
       "      <td>7</td>\n",
       "      <td>3</td>\n",
       "      <td>3</td>\n",
       "      <td>0</td>\n",
       "      <td>0</td>\n",
       "      <td>0</td>\n",
       "      <td>0</td>\n",
       "    </tr>\n",
       "    <tr>\n",
       "      <th>3</th>\n",
       "      <td>33</td>\n",
       "      <td>No</td>\n",
       "      <td>Travel_Frequently</td>\n",
       "      <td>1392</td>\n",
       "      <td>Research &amp; Development</td>\n",
       "      <td>3</td>\n",
       "      <td>4</td>\n",
       "      <td>Life Sciences</td>\n",
       "      <td>1</td>\n",
       "      <td>5</td>\n",
       "      <td>4</td>\n",
       "      <td>Female</td>\n",
       "      <td>56</td>\n",
       "      <td>3</td>\n",
       "      <td>1</td>\n",
       "      <td>Research Scientist</td>\n",
       "      <td>3</td>\n",
       "      <td>Married</td>\n",
       "      <td>2909</td>\n",
       "      <td>23159</td>\n",
       "      <td>1</td>\n",
       "      <td>Y</td>\n",
       "      <td>Yes</td>\n",
       "      <td>11</td>\n",
       "      <td>3</td>\n",
       "      <td>3</td>\n",
       "      <td>80</td>\n",
       "      <td>0</td>\n",
       "      <td>8</td>\n",
       "      <td>3</td>\n",
       "      <td>3</td>\n",
       "      <td>8</td>\n",
       "      <td>7</td>\n",
       "      <td>3</td>\n",
       "      <td>0</td>\n",
       "    </tr>\n",
       "    <tr>\n",
       "      <th>4</th>\n",
       "      <td>27</td>\n",
       "      <td>No</td>\n",
       "      <td>Travel_Rarely</td>\n",
       "      <td>591</td>\n",
       "      <td>Research &amp; Development</td>\n",
       "      <td>2</td>\n",
       "      <td>1</td>\n",
       "      <td>Medical</td>\n",
       "      <td>1</td>\n",
       "      <td>7</td>\n",
       "      <td>1</td>\n",
       "      <td>Male</td>\n",
       "      <td>40</td>\n",
       "      <td>3</td>\n",
       "      <td>1</td>\n",
       "      <td>Laboratory Technician</td>\n",
       "      <td>2</td>\n",
       "      <td>Married</td>\n",
       "      <td>3468</td>\n",
       "      <td>16632</td>\n",
       "      <td>9</td>\n",
       "      <td>Y</td>\n",
       "      <td>No</td>\n",
       "      <td>12</td>\n",
       "      <td>3</td>\n",
       "      <td>4</td>\n",
       "      <td>80</td>\n",
       "      <td>1</td>\n",
       "      <td>6</td>\n",
       "      <td>3</td>\n",
       "      <td>3</td>\n",
       "      <td>2</td>\n",
       "      <td>2</td>\n",
       "      <td>2</td>\n",
       "      <td>2</td>\n",
       "    </tr>\n",
       "  </tbody>\n",
       "</table>\n",
       "</div>"
      ],
      "text/plain": [
       "   Age Attrition     BusinessTravel  DailyRate              Department  \\\n",
       "0   41       Yes      Travel_Rarely       1102                   Sales   \n",
       "1   49        No  Travel_Frequently        279  Research & Development   \n",
       "2   37       Yes      Travel_Rarely       1373  Research & Development   \n",
       "3   33        No  Travel_Frequently       1392  Research & Development   \n",
       "4   27        No      Travel_Rarely        591  Research & Development   \n",
       "\n",
       "   DistanceFromHome  Education EducationField  EmployeeCount  EmployeeNumber  \\\n",
       "0                 1          2  Life Sciences              1               1   \n",
       "1                 8          1  Life Sciences              1               2   \n",
       "2                 2          2          Other              1               4   \n",
       "3                 3          4  Life Sciences              1               5   \n",
       "4                 2          1        Medical              1               7   \n",
       "\n",
       "   EnvironmentSatisfaction  Gender  HourlyRate  JobInvolvement  JobLevel  \\\n",
       "0                        2  Female          94               3         2   \n",
       "1                        3    Male          61               2         2   \n",
       "2                        4    Male          92               2         1   \n",
       "3                        4  Female          56               3         1   \n",
       "4                        1    Male          40               3         1   \n",
       "\n",
       "                 JobRole  JobSatisfaction MaritalStatus  MonthlyIncome  \\\n",
       "0        Sales Executive                4        Single           5993   \n",
       "1     Research Scientist                2       Married           5130   \n",
       "2  Laboratory Technician                3        Single           2090   \n",
       "3     Research Scientist                3       Married           2909   \n",
       "4  Laboratory Technician                2       Married           3468   \n",
       "\n",
       "   MonthlyRate  NumCompaniesWorked Over18 OverTime  PercentSalaryHike  \\\n",
       "0        19479                   8      Y      Yes                 11   \n",
       "1        24907                   1      Y       No                 23   \n",
       "2         2396                   6      Y      Yes                 15   \n",
       "3        23159                   1      Y      Yes                 11   \n",
       "4        16632                   9      Y       No                 12   \n",
       "\n",
       "   PerformanceRating  RelationshipSatisfaction  StandardHours  \\\n",
       "0                  3                         1             80   \n",
       "1                  4                         4             80   \n",
       "2                  3                         2             80   \n",
       "3                  3                         3             80   \n",
       "4                  3                         4             80   \n",
       "\n",
       "   StockOptionLevel  TotalWorkingYears  TrainingTimesLastYear  \\\n",
       "0                 0                  8                      0   \n",
       "1                 1                 10                      3   \n",
       "2                 0                  7                      3   \n",
       "3                 0                  8                      3   \n",
       "4                 1                  6                      3   \n",
       "\n",
       "   WorkLifeBalance  YearsAtCompany  YearsInCurrentRole  \\\n",
       "0                1               6                   4   \n",
       "1                3              10                   7   \n",
       "2                3               0                   0   \n",
       "3                3               8                   7   \n",
       "4                3               2                   2   \n",
       "\n",
       "   YearsSinceLastPromotion  YearsWithCurrManager  \n",
       "0                        0                     5  \n",
       "1                        1                     7  \n",
       "2                        0                     0  \n",
       "3                        3                     0  \n",
       "4                        2                     2  "
      ]
     },
     "execution_count": 2,
     "metadata": {},
     "output_type": "execute_result"
    }
   ],
   "source": [
    "df=pd.read_csv(r'Attrition_1_.csv')\n",
    "df.head(5)"
   ]
  },
  {
   "cell_type": "code",
   "execution_count": 3,
   "metadata": {
    "scrolled": true
   },
   "outputs": [
    {
     "data": {
      "text/html": [
       "<div>\n",
       "<style scoped>\n",
       "    .dataframe tbody tr th:only-of-type {\n",
       "        vertical-align: middle;\n",
       "    }\n",
       "\n",
       "    .dataframe tbody tr th {\n",
       "        vertical-align: top;\n",
       "    }\n",
       "\n",
       "    .dataframe thead th {\n",
       "        text-align: right;\n",
       "    }\n",
       "</style>\n",
       "<table border=\"1\" class=\"dataframe\">\n",
       "  <thead>\n",
       "    <tr style=\"text-align: right;\">\n",
       "      <th></th>\n",
       "      <th>Age</th>\n",
       "      <th>DailyRate</th>\n",
       "      <th>DistanceFromHome</th>\n",
       "      <th>Education</th>\n",
       "      <th>EmployeeCount</th>\n",
       "      <th>EmployeeNumber</th>\n",
       "      <th>EnvironmentSatisfaction</th>\n",
       "      <th>HourlyRate</th>\n",
       "      <th>JobInvolvement</th>\n",
       "      <th>JobLevel</th>\n",
       "      <th>JobSatisfaction</th>\n",
       "      <th>MonthlyIncome</th>\n",
       "      <th>MonthlyRate</th>\n",
       "      <th>NumCompaniesWorked</th>\n",
       "      <th>PercentSalaryHike</th>\n",
       "      <th>PerformanceRating</th>\n",
       "      <th>RelationshipSatisfaction</th>\n",
       "      <th>StandardHours</th>\n",
       "      <th>StockOptionLevel</th>\n",
       "      <th>TotalWorkingYears</th>\n",
       "      <th>TrainingTimesLastYear</th>\n",
       "      <th>WorkLifeBalance</th>\n",
       "      <th>YearsAtCompany</th>\n",
       "      <th>YearsInCurrentRole</th>\n",
       "      <th>YearsSinceLastPromotion</th>\n",
       "      <th>YearsWithCurrManager</th>\n",
       "    </tr>\n",
       "  </thead>\n",
       "  <tbody>\n",
       "    <tr>\n",
       "      <th>count</th>\n",
       "      <td>1470.000000</td>\n",
       "      <td>1470.000000</td>\n",
       "      <td>1470.000000</td>\n",
       "      <td>1470.000000</td>\n",
       "      <td>1470.0</td>\n",
       "      <td>1470.000000</td>\n",
       "      <td>1470.000000</td>\n",
       "      <td>1470.000000</td>\n",
       "      <td>1470.000000</td>\n",
       "      <td>1470.000000</td>\n",
       "      <td>1470.000000</td>\n",
       "      <td>1470.000000</td>\n",
       "      <td>1470.000000</td>\n",
       "      <td>1470.000000</td>\n",
       "      <td>1470.000000</td>\n",
       "      <td>1470.000000</td>\n",
       "      <td>1470.000000</td>\n",
       "      <td>1470.0</td>\n",
       "      <td>1470.000000</td>\n",
       "      <td>1470.000000</td>\n",
       "      <td>1470.000000</td>\n",
       "      <td>1470.000000</td>\n",
       "      <td>1470.000000</td>\n",
       "      <td>1470.000000</td>\n",
       "      <td>1470.000000</td>\n",
       "      <td>1470.000000</td>\n",
       "    </tr>\n",
       "    <tr>\n",
       "      <th>mean</th>\n",
       "      <td>36.923810</td>\n",
       "      <td>802.485714</td>\n",
       "      <td>9.192517</td>\n",
       "      <td>2.912925</td>\n",
       "      <td>1.0</td>\n",
       "      <td>1024.865306</td>\n",
       "      <td>2.721769</td>\n",
       "      <td>65.891156</td>\n",
       "      <td>2.729932</td>\n",
       "      <td>2.063946</td>\n",
       "      <td>2.728571</td>\n",
       "      <td>6502.931293</td>\n",
       "      <td>14313.103401</td>\n",
       "      <td>2.693197</td>\n",
       "      <td>15.209524</td>\n",
       "      <td>3.153741</td>\n",
       "      <td>2.712245</td>\n",
       "      <td>80.0</td>\n",
       "      <td>0.793878</td>\n",
       "      <td>11.279592</td>\n",
       "      <td>2.799320</td>\n",
       "      <td>2.761224</td>\n",
       "      <td>7.008163</td>\n",
       "      <td>4.229252</td>\n",
       "      <td>2.187755</td>\n",
       "      <td>4.123129</td>\n",
       "    </tr>\n",
       "    <tr>\n",
       "      <th>std</th>\n",
       "      <td>9.135373</td>\n",
       "      <td>403.509100</td>\n",
       "      <td>8.106864</td>\n",
       "      <td>1.024165</td>\n",
       "      <td>0.0</td>\n",
       "      <td>602.024335</td>\n",
       "      <td>1.093082</td>\n",
       "      <td>20.329428</td>\n",
       "      <td>0.711561</td>\n",
       "      <td>1.106940</td>\n",
       "      <td>1.102846</td>\n",
       "      <td>4707.956783</td>\n",
       "      <td>7117.786044</td>\n",
       "      <td>2.498009</td>\n",
       "      <td>3.659938</td>\n",
       "      <td>0.360824</td>\n",
       "      <td>1.081209</td>\n",
       "      <td>0.0</td>\n",
       "      <td>0.852077</td>\n",
       "      <td>7.780782</td>\n",
       "      <td>1.289271</td>\n",
       "      <td>0.706476</td>\n",
       "      <td>6.126525</td>\n",
       "      <td>3.623137</td>\n",
       "      <td>3.222430</td>\n",
       "      <td>3.568136</td>\n",
       "    </tr>\n",
       "    <tr>\n",
       "      <th>min</th>\n",
       "      <td>18.000000</td>\n",
       "      <td>102.000000</td>\n",
       "      <td>1.000000</td>\n",
       "      <td>1.000000</td>\n",
       "      <td>1.0</td>\n",
       "      <td>1.000000</td>\n",
       "      <td>1.000000</td>\n",
       "      <td>30.000000</td>\n",
       "      <td>1.000000</td>\n",
       "      <td>1.000000</td>\n",
       "      <td>1.000000</td>\n",
       "      <td>1009.000000</td>\n",
       "      <td>2094.000000</td>\n",
       "      <td>0.000000</td>\n",
       "      <td>11.000000</td>\n",
       "      <td>3.000000</td>\n",
       "      <td>1.000000</td>\n",
       "      <td>80.0</td>\n",
       "      <td>0.000000</td>\n",
       "      <td>0.000000</td>\n",
       "      <td>0.000000</td>\n",
       "      <td>1.000000</td>\n",
       "      <td>0.000000</td>\n",
       "      <td>0.000000</td>\n",
       "      <td>0.000000</td>\n",
       "      <td>0.000000</td>\n",
       "    </tr>\n",
       "    <tr>\n",
       "      <th>25%</th>\n",
       "      <td>30.000000</td>\n",
       "      <td>465.000000</td>\n",
       "      <td>2.000000</td>\n",
       "      <td>2.000000</td>\n",
       "      <td>1.0</td>\n",
       "      <td>491.250000</td>\n",
       "      <td>2.000000</td>\n",
       "      <td>48.000000</td>\n",
       "      <td>2.000000</td>\n",
       "      <td>1.000000</td>\n",
       "      <td>2.000000</td>\n",
       "      <td>2911.000000</td>\n",
       "      <td>8047.000000</td>\n",
       "      <td>1.000000</td>\n",
       "      <td>12.000000</td>\n",
       "      <td>3.000000</td>\n",
       "      <td>2.000000</td>\n",
       "      <td>80.0</td>\n",
       "      <td>0.000000</td>\n",
       "      <td>6.000000</td>\n",
       "      <td>2.000000</td>\n",
       "      <td>2.000000</td>\n",
       "      <td>3.000000</td>\n",
       "      <td>2.000000</td>\n",
       "      <td>0.000000</td>\n",
       "      <td>2.000000</td>\n",
       "    </tr>\n",
       "    <tr>\n",
       "      <th>50%</th>\n",
       "      <td>36.000000</td>\n",
       "      <td>802.000000</td>\n",
       "      <td>7.000000</td>\n",
       "      <td>3.000000</td>\n",
       "      <td>1.0</td>\n",
       "      <td>1020.500000</td>\n",
       "      <td>3.000000</td>\n",
       "      <td>66.000000</td>\n",
       "      <td>3.000000</td>\n",
       "      <td>2.000000</td>\n",
       "      <td>3.000000</td>\n",
       "      <td>4919.000000</td>\n",
       "      <td>14235.500000</td>\n",
       "      <td>2.000000</td>\n",
       "      <td>14.000000</td>\n",
       "      <td>3.000000</td>\n",
       "      <td>3.000000</td>\n",
       "      <td>80.0</td>\n",
       "      <td>1.000000</td>\n",
       "      <td>10.000000</td>\n",
       "      <td>3.000000</td>\n",
       "      <td>3.000000</td>\n",
       "      <td>5.000000</td>\n",
       "      <td>3.000000</td>\n",
       "      <td>1.000000</td>\n",
       "      <td>3.000000</td>\n",
       "    </tr>\n",
       "    <tr>\n",
       "      <th>75%</th>\n",
       "      <td>43.000000</td>\n",
       "      <td>1157.000000</td>\n",
       "      <td>14.000000</td>\n",
       "      <td>4.000000</td>\n",
       "      <td>1.0</td>\n",
       "      <td>1555.750000</td>\n",
       "      <td>4.000000</td>\n",
       "      <td>83.750000</td>\n",
       "      <td>3.000000</td>\n",
       "      <td>3.000000</td>\n",
       "      <td>4.000000</td>\n",
       "      <td>8379.000000</td>\n",
       "      <td>20461.500000</td>\n",
       "      <td>4.000000</td>\n",
       "      <td>18.000000</td>\n",
       "      <td>3.000000</td>\n",
       "      <td>4.000000</td>\n",
       "      <td>80.0</td>\n",
       "      <td>1.000000</td>\n",
       "      <td>15.000000</td>\n",
       "      <td>3.000000</td>\n",
       "      <td>3.000000</td>\n",
       "      <td>9.000000</td>\n",
       "      <td>7.000000</td>\n",
       "      <td>3.000000</td>\n",
       "      <td>7.000000</td>\n",
       "    </tr>\n",
       "    <tr>\n",
       "      <th>max</th>\n",
       "      <td>60.000000</td>\n",
       "      <td>1499.000000</td>\n",
       "      <td>29.000000</td>\n",
       "      <td>5.000000</td>\n",
       "      <td>1.0</td>\n",
       "      <td>2068.000000</td>\n",
       "      <td>4.000000</td>\n",
       "      <td>100.000000</td>\n",
       "      <td>4.000000</td>\n",
       "      <td>5.000000</td>\n",
       "      <td>4.000000</td>\n",
       "      <td>19999.000000</td>\n",
       "      <td>26999.000000</td>\n",
       "      <td>9.000000</td>\n",
       "      <td>25.000000</td>\n",
       "      <td>4.000000</td>\n",
       "      <td>4.000000</td>\n",
       "      <td>80.0</td>\n",
       "      <td>3.000000</td>\n",
       "      <td>40.000000</td>\n",
       "      <td>6.000000</td>\n",
       "      <td>4.000000</td>\n",
       "      <td>40.000000</td>\n",
       "      <td>18.000000</td>\n",
       "      <td>15.000000</td>\n",
       "      <td>17.000000</td>\n",
       "    </tr>\n",
       "  </tbody>\n",
       "</table>\n",
       "</div>"
      ],
      "text/plain": [
       "               Age    DailyRate  DistanceFromHome    Education  EmployeeCount  \\\n",
       "count  1470.000000  1470.000000       1470.000000  1470.000000         1470.0   \n",
       "mean     36.923810   802.485714          9.192517     2.912925            1.0   \n",
       "std       9.135373   403.509100          8.106864     1.024165            0.0   \n",
       "min      18.000000   102.000000          1.000000     1.000000            1.0   \n",
       "25%      30.000000   465.000000          2.000000     2.000000            1.0   \n",
       "50%      36.000000   802.000000          7.000000     3.000000            1.0   \n",
       "75%      43.000000  1157.000000         14.000000     4.000000            1.0   \n",
       "max      60.000000  1499.000000         29.000000     5.000000            1.0   \n",
       "\n",
       "       EmployeeNumber  EnvironmentSatisfaction   HourlyRate  JobInvolvement  \\\n",
       "count     1470.000000              1470.000000  1470.000000     1470.000000   \n",
       "mean      1024.865306                 2.721769    65.891156        2.729932   \n",
       "std        602.024335                 1.093082    20.329428        0.711561   \n",
       "min          1.000000                 1.000000    30.000000        1.000000   \n",
       "25%        491.250000                 2.000000    48.000000        2.000000   \n",
       "50%       1020.500000                 3.000000    66.000000        3.000000   \n",
       "75%       1555.750000                 4.000000    83.750000        3.000000   \n",
       "max       2068.000000                 4.000000   100.000000        4.000000   \n",
       "\n",
       "          JobLevel  JobSatisfaction  MonthlyIncome   MonthlyRate  \\\n",
       "count  1470.000000      1470.000000    1470.000000   1470.000000   \n",
       "mean      2.063946         2.728571    6502.931293  14313.103401   \n",
       "std       1.106940         1.102846    4707.956783   7117.786044   \n",
       "min       1.000000         1.000000    1009.000000   2094.000000   \n",
       "25%       1.000000         2.000000    2911.000000   8047.000000   \n",
       "50%       2.000000         3.000000    4919.000000  14235.500000   \n",
       "75%       3.000000         4.000000    8379.000000  20461.500000   \n",
       "max       5.000000         4.000000   19999.000000  26999.000000   \n",
       "\n",
       "       NumCompaniesWorked  PercentSalaryHike  PerformanceRating  \\\n",
       "count         1470.000000        1470.000000        1470.000000   \n",
       "mean             2.693197          15.209524           3.153741   \n",
       "std              2.498009           3.659938           0.360824   \n",
       "min              0.000000          11.000000           3.000000   \n",
       "25%              1.000000          12.000000           3.000000   \n",
       "50%              2.000000          14.000000           3.000000   \n",
       "75%              4.000000          18.000000           3.000000   \n",
       "max              9.000000          25.000000           4.000000   \n",
       "\n",
       "       RelationshipSatisfaction  StandardHours  StockOptionLevel  \\\n",
       "count               1470.000000         1470.0       1470.000000   \n",
       "mean                   2.712245           80.0          0.793878   \n",
       "std                    1.081209            0.0          0.852077   \n",
       "min                    1.000000           80.0          0.000000   \n",
       "25%                    2.000000           80.0          0.000000   \n",
       "50%                    3.000000           80.0          1.000000   \n",
       "75%                    4.000000           80.0          1.000000   \n",
       "max                    4.000000           80.0          3.000000   \n",
       "\n",
       "       TotalWorkingYears  TrainingTimesLastYear  WorkLifeBalance  \\\n",
       "count        1470.000000            1470.000000      1470.000000   \n",
       "mean           11.279592               2.799320         2.761224   \n",
       "std             7.780782               1.289271         0.706476   \n",
       "min             0.000000               0.000000         1.000000   \n",
       "25%             6.000000               2.000000         2.000000   \n",
       "50%            10.000000               3.000000         3.000000   \n",
       "75%            15.000000               3.000000         3.000000   \n",
       "max            40.000000               6.000000         4.000000   \n",
       "\n",
       "       YearsAtCompany  YearsInCurrentRole  YearsSinceLastPromotion  \\\n",
       "count     1470.000000         1470.000000              1470.000000   \n",
       "mean         7.008163            4.229252                 2.187755   \n",
       "std          6.126525            3.623137                 3.222430   \n",
       "min          0.000000            0.000000                 0.000000   \n",
       "25%          3.000000            2.000000                 0.000000   \n",
       "50%          5.000000            3.000000                 1.000000   \n",
       "75%          9.000000            7.000000                 3.000000   \n",
       "max         40.000000           18.000000                15.000000   \n",
       "\n",
       "       YearsWithCurrManager  \n",
       "count           1470.000000  \n",
       "mean               4.123129  \n",
       "std                3.568136  \n",
       "min                0.000000  \n",
       "25%                2.000000  \n",
       "50%                3.000000  \n",
       "75%                7.000000  \n",
       "max               17.000000  "
      ]
     },
     "execution_count": 3,
     "metadata": {},
     "output_type": "execute_result"
    }
   ],
   "source": [
    "df.describe()"
   ]
  },
  {
   "cell_type": "markdown",
   "metadata": {},
   "source": [
    "### *There are no null values present in any of the column*"
   ]
  },
  {
   "cell_type": "code",
   "execution_count": 4,
   "metadata": {
    "scrolled": true
   },
   "outputs": [
    {
     "data": {
      "text/plain": [
       "Age                         0\n",
       "Attrition                   0\n",
       "BusinessTravel              0\n",
       "DailyRate                   0\n",
       "Department                  0\n",
       "DistanceFromHome            0\n",
       "Education                   0\n",
       "EducationField              0\n",
       "EmployeeCount               0\n",
       "EmployeeNumber              0\n",
       "EnvironmentSatisfaction     0\n",
       "Gender                      0\n",
       "HourlyRate                  0\n",
       "JobInvolvement              0\n",
       "JobLevel                    0\n",
       "JobRole                     0\n",
       "JobSatisfaction             0\n",
       "MaritalStatus               0\n",
       "MonthlyIncome               0\n",
       "MonthlyRate                 0\n",
       "NumCompaniesWorked          0\n",
       "Over18                      0\n",
       "OverTime                    0\n",
       "PercentSalaryHike           0\n",
       "PerformanceRating           0\n",
       "RelationshipSatisfaction    0\n",
       "StandardHours               0\n",
       "StockOptionLevel            0\n",
       "TotalWorkingYears           0\n",
       "TrainingTimesLastYear       0\n",
       "WorkLifeBalance             0\n",
       "YearsAtCompany              0\n",
       "YearsInCurrentRole          0\n",
       "YearsSinceLastPromotion     0\n",
       "YearsWithCurrManager        0\n",
       "dtype: int64"
      ]
     },
     "execution_count": 4,
     "metadata": {},
     "output_type": "execute_result"
    },
    {
     "data": {
      "image/png": "[encoded data removed]",
      "text/plain": [
       "<Figure size 432x288 with 1 Axes>"
      ]
     },
     "metadata": {
      "needs_background": "light"
     },
     "output_type": "display_data"
    }
   ],
   "source": [
    "sns.heatmap(df.isnull(),yticklabels=False,cbar=False)\n",
    "df.isnull().sum()"
   ]
  },
  {
   "cell_type": "markdown",
   "metadata": {},
   "source": [
    "## Exploring categorical columns"
   ]
  },
  {
   "cell_type": "code",
   "execution_count": 5,
   "metadata": {},
   "outputs": [
    {
     "data": {
      "text/plain": [
       "9"
      ]
     },
     "execution_count": 5,
     "metadata": {},
     "output_type": "execute_result"
    }
   ],
   "source": [
    "categorical_columns=[x for x in df.dtypes.index if df.dtypes[x]==\"object\"]\n",
    "len(categorical_columns)"
   ]
  },
  {
   "cell_type": "code",
   "execution_count": 6,
   "metadata": {},
   "outputs": [
    {
     "name": "stdout",
     "output_type": "stream",
     "text": [
      "\n",
      "Frequency of Categories for varible Attrition\n",
      "No     1233\n",
      "Yes     237\n",
      "Name: Attrition, dtype: int64\n",
      "\n",
      "Frequency of Categories for varible BusinessTravel\n",
      "Travel_Rarely        1043\n",
      "Travel_Frequently     277\n",
      "Non-Travel            150\n",
      "Name: BusinessTravel, dtype: int64\n",
      "\n",
      "Frequency of Categories for varible Department\n",
      "Research & Development    961\n",
      "Sales                     446\n",
      "Human Resources            63\n",
      "Name: Department, dtype: int64\n",
      "\n",
      "Frequency of Categories for varible EducationField\n",
      "Life Sciences       606\n",
      "Medical             464\n",
      "Marketing           159\n",
      "Technical Degree    132\n",
      "Other                82\n",
      "Human Resources      27\n",
      "Name: EducationField, dtype: int64\n",
      "\n",
      "Frequency of Categories for varible Gender\n",
      "Male      882\n",
      "Female    588\n",
      "Name: Gender, dtype: int64\n",
      "\n",
      "Frequency of Categories for varible JobRole\n",
      "Sales Executive              326\n",
      "Research Scientist           292\n",
      "Laboratory Technician        259\n",
      "Manufacturing Director       145\n",
      "Healthcare Representative    131\n",
      "Manager                      102\n",
      "Sales Representative          83\n",
      "Research Director             80\n",
      "Human Resources               52\n",
      "Name: JobRole, dtype: int64\n",
      "\n",
      "Frequency of Categories for varible MaritalStatus\n",
      "Married     673\n",
      "Single      470\n",
      "Divorced    327\n",
      "Name: MaritalStatus, dtype: int64\n",
      "\n",
      "Frequency of Categories for varible Over18\n",
      "Y    1470\n",
      "Name: Over18, dtype: int64\n",
      "\n",
      "Frequency of Categories for varible OverTime\n",
      "No     1054\n",
      "Yes     416\n",
      "Name: OverTime, dtype: int64\n"
     ]
    }
   ],
   "source": [
    "for col in categorical_columns:\n",
    "    print('\\nFrequency of Categories for varible %s'%col)\n",
    "    print(df[col].value_counts())\n"
   ]
  },
  {
   "cell_type": "markdown",
   "metadata": {},
   "source": [
    "# EDA"
   ]
  },
  {
   "cell_type": "markdown",
   "metadata": {},
   "source": [
    "## Barplot for Categorical columns"
   ]
  },
  {
   "cell_type": "code",
   "execution_count": 7,
   "metadata": {},
   "outputs": [
    {
     "data": {
      "image/png": "[encoded data removed]",
      "text/plain": [
       "<Figure size 432x288 with 1 Axes>"
      ]
     },
     "metadata": {},
     "output_type": "display_data"
    },
    {
     "data": {
      "image/png": "[encoded data removed]",
      "text/plain": [
       "<Figure size 432x288 with 1 Axes>"
      ]
     },
     "metadata": {},
     "output_type": "display_data"
    },
    {
     "data": {
      "image/png": "[encoded data removed]",
      "text/plain": [
       "<Figure size 432x288 with 1 Axes>"
      ]
     },
     "metadata": {},
     "output_type": "display_data"
    },
    {
     "data": {
      "image/png": "[encoded data removed]",
      "text/plain": [
       "<Figure size 432x288 with 1 Axes>"
      ]
     },
     "metadata": {},
     "output_type": "display_data"
    },
    {
     "data": {
      "image/png": "[encoded data removed]",
      "text/plain": [
       "<Figure size 432x288 with 1 Axes>"
      ]
     },
     "metadata": {},
     "output_type": "display_data"
    },
    {
     "data": {
      "image/png": "[encoded data removed]",
      "text/plain": [
       "<Figure size 432x288 with 1 Axes>"
      ]
     },
     "metadata": {},
     "output_type": "display_data"
    },
    {
     "data": {
      "image/png": "[encoded data removed]",
      "text/plain": [
       "<Figure size 432x288 with 1 Axes>"
      ]
     },
     "metadata": {},
     "output_type": "display_data"
    },
    {
     "data": {
      "image/png": "[encoded data removed]",
      "text/plain": [
       "<Figure size 432x288 with 1 Axes>"
      ]
     },
     "metadata": {},
     "output_type": "display_data"
    },
    {
     "data": {
      "image/png": "[encoded data removed]",
      "text/plain": [
       "<Figure size 432x288 with 1 Axes>"
      ]
     },
     "metadata": {},
     "output_type": "display_data"
    }
   ],
   "source": [
    "for i in categorical_columns:\n",
    "    count=df[i].value_counts()\n",
    "    sns.set(style=\"darkgrid\")\n",
    "    sns.barplot(count.index,count.values)\n",
    "    plt.title('Frequency Distribution')\n",
    "    plt.xlabel(i,fontsize=15)\n",
    "    plt.xticks(rotation=45,horizontalalignment='right')\n",
    "    plt.show()"
   ]
  },
  {
   "cell_type": "markdown",
   "metadata": {},
   "source": [
    "### *From above boxplots we can say that the data is imbalanced.  And 'Over18' column is not required.*"
   ]
  },
  {
   "cell_type": "markdown",
   "metadata": {},
   "source": [
    "### Box plot for numerical columns"
   ]
  },
  {
   "cell_type": "code",
   "execution_count": 8,
   "metadata": {},
   "outputs": [
    {
     "data": {
      "image/png": "[encoded data removed]",
      "text/plain": [
       "<Figure size 432x288 with 1 Axes>"
      ]
     },
     "metadata": {},
     "output_type": "display_data"
    },
    {
     "data": {
      "image/png": "[encoded data removed]",
      "text/plain": [
       "<Figure size 432x288 with 1 Axes>"
      ]
     },
     "metadata": {},
     "output_type": "display_data"
    },
    {
     "data": {
      "image/png": "[encoded data removed]",
      "text/plain": [
       "<Figure size 432x288 with 1 Axes>"
      ]
     },
     "metadata": {},
     "output_type": "display_data"
    },
    {
     "data": {
      "image/png": "[encoded data removed]",
      "text/plain": [
       "<Figure size 432x288 with 1 Axes>"
      ]
     },
     "metadata": {},
     "output_type": "display_data"
    },
    {
     "data": {
      "image/png": "[encoded data removed]",
      "text/plain": [
       "<Figure size 432x288 with 1 Axes>"
      ]
     },
     "metadata": {},
     "output_type": "display_data"
    },
    {
     "data": {
      "image/png": "[encoded data removed]",
      "text/plain": [
       "<Figure size 432x288 with 1 Axes>"
      ]
     },
     "metadata": {},
     "output_type": "display_data"
    },
    {
     "data": {
      "image/png": "[encoded data removed]",
      "text/plain": [
       "<Figure size 432x288 with 1 Axes>"
      ]
     },
     "metadata": {},
     "output_type": "display_data"
    },
    {
     "data": {
      "image/png": "[encoded data removed]",
      "text/plain": [
       "<Figure size 432x288 with 1 Axes>"
      ]
     },
     "metadata": {},
     "output_type": "display_data"
    },
    {
     "data": {
      "image/png": "[encoded data removed]",
      "text/plain": [
       "<Figure size 432x288 with 1 Axes>"
      ]
     },
     "metadata": {},
     "output_type": "display_data"
    },
    {
     "data": {
      "image/png": "[encoded data removed]",
      "text/plain": [
       "<Figure size 432x288 with 1 Axes>"
      ]
     },
     "metadata": {},
     "output_type": "display_data"
    },
    {
     "data": {
      "image/png": "[encoded data removed]",
      "text/plain": [
       "<Figure size 432x288 with 1 Axes>"
      ]
     },
     "metadata": {},
     "output_type": "display_data"
    },
    {
     "data": {
      "image/png": "[encoded data removed]",
      "text/plain": [
       "<Figure size 432x288 with 1 Axes>"
      ]
     },
     "metadata": {},
     "output_type": "display_data"
    },
    {
     "data": {
      "image/png": "[encoded data removed]",
      "text/plain": [
       "<Figure size 432x288 with 1 Axes>"
      ]
     },
     "metadata": {},
     "output_type": "display_data"
    },
    {
     "data": {
      "image/png": "[encoded data removed]",
      "text/plain": [
       "<Figure size 432x288 with 1 Axes>"
      ]
     },
     "metadata": {},
     "output_type": "display_data"
    },
    {
     "data": {
      "image/png": "[encoded data removed]",
      "text/plain": [
       "<Figure size 432x288 with 1 Axes>"
      ]
     },
     "metadata": {},
     "output_type": "display_data"
    },
    {
     "data": {
      "image/png": "[encoded data removed]",
      "text/plain": [
       "<Figure size 432x288 with 1 Axes>"
      ]
     },
     "metadata": {},
     "output_type": "display_data"
    },
    {
     "data": {
      "image/png": "[encoded data removed]",
      "text/plain": [
       "<Figure size 432x288 with 1 Axes>"
      ]
     },
     "metadata": {},
     "output_type": "display_data"
    },
    {
     "data": {
      "image/png": "[encoded data removed]",
      "text/plain": [
       "<Figure size 432x288 with 1 Axes>"
      ]
     },
     "metadata": {},
     "output_type": "display_data"
    },
    {
     "data": {
      "image/png": "[encoded data removed]",
      "text/plain": [
       "<Figure size 432x288 with 1 Axes>"
      ]
     },
     "metadata": {},
     "output_type": "display_data"
    },
    {
     "data": {
      "image/png": "[encoded data removed]",
      "text/plain": [
       "<Figure size 432x288 with 1 Axes>"
      ]
     },
     "metadata": {},
     "output_type": "display_data"
    },
    {
     "data": {
      "image/png": "[encoded data removed]",
      "text/plain": [
       "<Figure size 432x288 with 1 Axes>"
      ]
     },
     "metadata": {},
     "output_type": "display_data"
    },
    {
     "data": {
      "image/png": "[encoded data removed]",
      "text/plain": [
       "<Figure size 432x288 with 1 Axes>"
      ]
     },
     "metadata": {},
     "output_type": "display_data"
    },
    {
     "data": {
      "image/png": "[encoded data removed]",
      "text/plain": [
       "<Figure size 432x288 with 1 Axes>"
      ]
     },
     "metadata": {},
     "output_type": "display_data"
    },
    {
     "data": {
      "image/png": "[encoded data removed]",
      "text/plain": [
       "<Figure size 432x288 with 1 Axes>"
      ]
     },
     "metadata": {},
     "output_type": "display_data"
    },
    {
     "data": {
      "image/png": "[encoded data removed]",
      "text/plain": [
       "<Figure size 432x288 with 1 Axes>"
      ]
     },
     "metadata": {},
     "output_type": "display_data"
    },
    {
     "data": {
      "image/png": "[encoded data removed]",
      "text/plain": [
       "<Figure size 432x288 with 1 Axes>"
      ]
     },
     "metadata": {},
     "output_type": "display_data"
    }
   ],
   "source": [
    "columns = [x for x in df.dtypes.index if df.dtypes[x]==\"int64\"]\n",
    "for x in columns:\n",
    "    sns.boxplot(x,data=df)\n",
    "    plt.show(x)"
   ]
  },
  {
   "cell_type": "markdown",
   "metadata": {},
   "source": [
    "### *Dropping unwanted columns*"
   ]
  },
  {
   "cell_type": "code",
   "execution_count": 9,
   "metadata": {},
   "outputs": [],
   "source": [
    "df=df.drop([\"Over18\",\"EmployeeCount\",\"StandardHours\",\"EmployeeNumber\",\"DailyRate\",\"HourlyRate\",\"MonthlyRate\",\"StockOptionLevel\"],axis=1)"
   ]
  },
  {
   "cell_type": "code",
   "execution_count": 10,
   "metadata": {},
   "outputs": [
    {
     "name": "stdout",
     "output_type": "stream",
     "text": [
      "<class 'pandas.core.frame.DataFrame'>\n",
      "RangeIndex: 1470 entries, 0 to 1469\n",
      "Data columns (total 27 columns):\n",
      "Age                         1470 non-null int64\n",
      "Attrition                   1470 non-null object\n",
      "BusinessTravel              1470 non-null object\n",
      "Department                  1470 non-null object\n",
      "DistanceFromHome            1470 non-null int64\n",
      "Education                   1470 non-null int64\n",
      "EducationField              1470 non-null object\n",
      "EnvironmentSatisfaction     1470 non-null int64\n",
      "Gender                      1470 non-null object\n",
      "JobInvolvement              1470 non-null int64\n",
      "JobLevel                    1470 non-null int64\n",
      "JobRole                     1470 non-null object\n",
      "JobSatisfaction             1470 non-null int64\n",
      "MaritalStatus               1470 non-null object\n",
      "MonthlyIncome               1470 non-null int64\n",
      "NumCompaniesWorked          1470 non-null int64\n",
      "OverTime                    1470 non-null object\n",
      "PercentSalaryHike           1470 non-null int64\n",
      "PerformanceRating           1470 non-null int64\n",
      "RelationshipSatisfaction    1470 non-null int64\n",
      "TotalWorkingYears           1470 non-null int64\n",
      "TrainingTimesLastYear       1470 non-null int64\n",
      "WorkLifeBalance             1470 non-null int64\n",
      "YearsAtCompany              1470 non-null int64\n",
      "YearsInCurrentRole          1470 non-null int64\n",
      "YearsSinceLastPromotion     1470 non-null int64\n",
      "YearsWithCurrManager        1470 non-null int64\n",
      "dtypes: int64(19), object(8)\n",
      "memory usage: 310.2+ KB\n"
     ]
    }
   ],
   "source": [
    "df.info()"
   ]
  },
  {
   "cell_type": "markdown",
   "metadata": {},
   "source": [
    "### Converting Attrition feature from categorical to numerical column"
   ]
  },
  {
   "cell_type": "code",
   "execution_count": 11,
   "metadata": {},
   "outputs": [],
   "source": [
    "from sklearn.preprocessing import LabelEncoder\n",
    "attr=LabelEncoder()\n",
    "df[\"Attrition\"]=attr.fit_transform(df[\"Attrition\"])"
   ]
  },
  {
   "cell_type": "code",
   "execution_count": 12,
   "metadata": {},
   "outputs": [],
   "source": [
    "def category_onehot_multicols(multcolumns):\n",
    "    df_final=df\n",
    "    i=0\n",
    "    for fields in multcolumns:\n",
    "        print(fields)\n",
    "        df1=pd.get_dummies(df[fields])\n",
    "        \n",
    "        df.drop([fields],axis=1,inplace=True)\n",
    "        if i==0:\n",
    "            df_final=df1.copy()\n",
    "        else:\n",
    "            df_final=pd.concat([df_final,df1],axis=1)\n",
    "        i=i+1\n",
    "    \n",
    "    df_final=pd.concat([df,df_final],axis=1)\n",
    "    \n",
    "    return df_final\n"
   ]
  },
  {
   "cell_type": "markdown",
   "metadata": {},
   "source": [
    "### Transforming categorical columns of X to numerical columns"
   ]
  },
  {
   "cell_type": "code",
   "execution_count": 13,
   "metadata": {},
   "outputs": [
    {
     "data": {
      "text/plain": [
       "['BusinessTravel',\n",
       " 'Department',\n",
       " 'EducationField',\n",
       " 'Gender',\n",
       " 'JobRole',\n",
       " 'MaritalStatus',\n",
       " 'OverTime']"
      ]
     },
     "execution_count": 13,
     "metadata": {},
     "output_type": "execute_result"
    }
   ],
   "source": [
    "df_categorical_columns=[x for x in df.dtypes.index if df.dtypes[x]==\"object\"]\n",
    "df_categorical_columns\n"
   ]
  },
  {
   "cell_type": "code",
   "execution_count": 14,
   "metadata": {},
   "outputs": [
    {
     "name": "stdout",
     "output_type": "stream",
     "text": [
      "BusinessTravel\n",
      "Department\n",
      "EducationField\n",
      "Gender\n",
      "JobRole\n",
      "MaritalStatus\n",
      "OverTime\n"
     ]
    }
   ],
   "source": [
    "df=category_onehot_multicols(df_categorical_columns)"
   ]
  },
  {
   "cell_type": "code",
   "execution_count": 15,
   "metadata": {},
   "outputs": [
    {
     "name": "stdout",
     "output_type": "stream",
     "text": [
      "<class 'pandas.core.frame.DataFrame'>\n",
      "RangeIndex: 1470 entries, 0 to 1469\n",
      "Data columns (total 48 columns):\n",
      "Age                          1470 non-null int64\n",
      "Attrition                    1470 non-null int32\n",
      "DistanceFromHome             1470 non-null int64\n",
      "Education                    1470 non-null int64\n",
      "EnvironmentSatisfaction      1470 non-null int64\n",
      "JobInvolvement               1470 non-null int64\n",
      "JobLevel                     1470 non-null int64\n",
      "JobSatisfaction              1470 non-null int64\n",
      "MonthlyIncome                1470 non-null int64\n",
      "NumCompaniesWorked           1470 non-null int64\n",
      "PercentSalaryHike            1470 non-null int64\n",
      "PerformanceRating            1470 non-null int64\n",
      "RelationshipSatisfaction     1470 non-null int64\n",
      "TotalWorkingYears            1470 non-null int64\n",
      "TrainingTimesLastYear        1470 non-null int64\n",
      "WorkLifeBalance              1470 non-null int64\n",
      "YearsAtCompany               1470 non-null int64\n",
      "YearsInCurrentRole           1470 non-null int64\n",
      "YearsSinceLastPromotion      1470 non-null int64\n",
      "YearsWithCurrManager         1470 non-null int64\n",
      "Non-Travel                   1470 non-null uint8\n",
      "Travel_Frequently            1470 non-null uint8\n",
      "Travel_Rarely                1470 non-null uint8\n",
      "Human Resources              1470 non-null uint8\n",
      "Research & Development       1470 non-null uint8\n",
      "Sales                        1470 non-null uint8\n",
      "Human Resources              1470 non-null uint8\n",
      "Life Sciences                1470 non-null uint8\n",
      "Marketing                    1470 non-null uint8\n",
      "Medical                      1470 non-null uint8\n",
      "Other                        1470 non-null uint8\n",
      "Technical Degree             1470 non-null uint8\n",
      "Female                       1470 non-null uint8\n",
      "Male                         1470 non-null uint8\n",
      "Healthcare Representative    1470 non-null uint8\n",
      "Human Resources              1470 non-null uint8\n",
      "Laboratory Technician        1470 non-null uint8\n",
      "Manager                      1470 non-null uint8\n",
      "Manufacturing Director       1470 non-null uint8\n",
      "Research Director            1470 non-null uint8\n",
      "Research Scientist           1470 non-null uint8\n",
      "Sales Executive              1470 non-null uint8\n",
      "Sales Representative         1470 non-null uint8\n",
      "Divorced                     1470 non-null uint8\n",
      "Married                      1470 non-null uint8\n",
      "Single                       1470 non-null uint8\n",
      "No                           1470 non-null uint8\n",
      "Yes                          1470 non-null uint8\n",
      "dtypes: int32(1), int64(19), uint8(28)\n",
      "memory usage: 264.2 KB\n"
     ]
    }
   ],
   "source": [
    "df.info()"
   ]
  },
  {
   "cell_type": "markdown",
   "metadata": {},
   "source": [
    "### *Separating dependent and independent variables.*"
   ]
  },
  {
   "cell_type": "code",
   "execution_count": 16,
   "metadata": {},
   "outputs": [],
   "source": [
    "X=df.drop([\"Attrition\"],axis=1)"
   ]
  },
  {
   "cell_type": "code",
   "execution_count": 17,
   "metadata": {},
   "outputs": [],
   "source": [
    "Y=df[[\"Attrition\"]]"
   ]
  },
  {
   "cell_type": "markdown",
   "metadata": {},
   "source": [
    "##  Splitting the data into train and test data sets"
   ]
  },
  {
   "cell_type": "code",
   "execution_count": 18,
   "metadata": {},
   "outputs": [],
   "source": [
    "from sklearn.model_selection import train_test_split\n",
    "X_train,X_test,Y_train,Y_test=train_test_split(X,Y,test_size=0.2,random_state=10)"
   ]
  },
  {
   "cell_type": "markdown",
   "metadata": {},
   "source": [
    "## Model Building"
   ]
  },
  {
   "cell_type": "markdown",
   "metadata": {},
   "source": [
    "## *LOGISTIC REGRESSION*"
   ]
  },
  {
   "cell_type": "code",
   "execution_count": 19,
   "metadata": {},
   "outputs": [],
   "source": [
    "from sklearn.linear_model import LogisticRegression\n",
    "lg_model=LogisticRegression()\n",
    "lg_model.fit(X_train,Y_train)\n",
    "lg_Y_pred=lg_model.predict(X_test)"
   ]
  },
  {
   "cell_type": "code",
   "execution_count": 20,
   "metadata": {},
   "outputs": [
    {
     "name": "stdout",
     "output_type": "stream",
     "text": [
      "Confusion Matrix\n",
      "[[234   5]\n",
      " [ 32  23]]\n",
      "Classification report:\n",
      "              precision    recall  f1-score   support\n",
      "\n",
      "           0       0.88      0.98      0.93       239\n",
      "           1       0.82      0.42      0.55        55\n",
      "\n",
      "   micro avg       0.87      0.87      0.87       294\n",
      "   macro avg       0.85      0.70      0.74       294\n",
      "weighted avg       0.87      0.87      0.86       294\n",
      "\n",
      "Accuracy: 0.8741496598639455\n"
     ]
    }
   ],
   "source": [
    "from sklearn.metrics import classification_report,accuracy_score,confusion_matrix\n",
    "print(\"Confusion Matrix\")\n",
    "cfm=confusion_matrix(Y_test,lg_Y_pred)\n",
    "print(cfm)\n",
    "\n",
    "print(\"Classification report:\")\n",
    "print(classification_report(Y_test,lg_Y_pred))\n",
    "\n",
    "acc=accuracy_score(Y_test,lg_Y_pred)\n",
    "print(\"Accuracy:\",acc)"
   ]
  },
  {
   "cell_type": "markdown",
   "metadata": {},
   "source": [
    "### Evaluating model at different threshhold values"
   ]
  },
  {
   "cell_type": "code",
   "execution_count": 21,
   "metadata": {},
   "outputs": [
    {
     "name": "stdout",
     "output_type": "stream",
     "text": [
      "Errors at threshold  0.3 : 41  , type 2 error : 20  , type 1 error: 21  , accuracy : 0.8605442176870748\n",
      "Errors at threshold  0.31 : 40  , type 2 error : 21  , type 1 error: 19  , accuracy : 0.8639455782312925\n",
      "Errors at threshold  0.32 : 41  , type 2 error : 22  , type 1 error: 19  , accuracy : 0.8605442176870748\n",
      "Errors at threshold  0.33 : 41  , type 2 error : 22  , type 1 error: 19  , accuracy : 0.8605442176870748\n",
      "Errors at threshold  0.34 : 41  , type 2 error : 25  , type 1 error: 16  , accuracy : 0.8605442176870748\n",
      "Errors at threshold  0.35000000000000003 : 40  , type 2 error : 26  , type 1 error: 14  , accuracy : 0.8639455782312925\n",
      "Errors at threshold  0.36000000000000004 : 40  , type 2 error : 27  , type 1 error: 13  , accuracy : 0.8639455782312925\n",
      "Errors at threshold  0.37000000000000005 : 38  , type 2 error : 28  , type 1 error: 10  , accuracy : 0.8707482993197279\n",
      "Errors at threshold  0.38000000000000006 : 37  , type 2 error : 28  , type 1 error: 9  , accuracy : 0.8741496598639455\n",
      "Errors at threshold  0.39000000000000007 : 35  , type 2 error : 28  , type 1 error: 7  , accuracy : 0.8809523809523809\n",
      "Errors at threshold  0.4000000000000001 : 34  , type 2 error : 28  , type 1 error: 6  , accuracy : 0.8843537414965986\n",
      "Errors at threshold  0.4100000000000001 : 35  , type 2 error : 29  , type 1 error: 6  , accuracy : 0.8809523809523809\n",
      "Errors at threshold  0.4200000000000001 : 35  , type 2 error : 29  , type 1 error: 6  , accuracy : 0.8809523809523809\n",
      "Errors at threshold  0.4300000000000001 : 35  , type 2 error : 29  , type 1 error: 6  , accuracy : 0.8809523809523809\n",
      "Errors at threshold  0.4400000000000001 : 36  , type 2 error : 30  , type 1 error: 6  , accuracy : 0.8775510204081632\n",
      "Errors at threshold  0.4500000000000001 : 36  , type 2 error : 30  , type 1 error: 6  , accuracy : 0.8775510204081632\n",
      "Errors at threshold  0.46000000000000013 : 35  , type 2 error : 30  , type 1 error: 5  , accuracy : 0.8809523809523809\n",
      "Errors at threshold  0.47000000000000014 : 36  , type 2 error : 31  , type 1 error: 5  , accuracy : 0.8775510204081632\n",
      "Errors at threshold  0.48000000000000015 : 36  , type 2 error : 31  , type 1 error: 5  , accuracy : 0.8775510204081632\n",
      "Errors at threshold  0.49000000000000016 : 37  , type 2 error : 32  , type 1 error: 5  , accuracy : 0.8741496598639455\n",
      "Errors at threshold  0.5000000000000002 : 37  , type 2 error : 32  , type 1 error: 5  , accuracy : 0.8741496598639455\n",
      "Errors at threshold  0.5100000000000002 : 36  , type 2 error : 32  , type 1 error: 4  , accuracy : 0.8775510204081632\n",
      "Errors at threshold  0.5200000000000002 : 37  , type 2 error : 33  , type 1 error: 4  , accuracy : 0.8741496598639455\n",
      "Errors at threshold  0.5300000000000002 : 37  , type 2 error : 34  , type 1 error: 3  , accuracy : 0.8741496598639455\n",
      "Errors at threshold  0.5400000000000003 : 38  , type 2 error : 35  , type 1 error: 3  , accuracy : 0.8707482993197279\n",
      "Errors at threshold  0.5500000000000003 : 37  , type 2 error : 35  , type 1 error: 2  , accuracy : 0.8741496598639455\n",
      "Errors at threshold  0.5600000000000003 : 37  , type 2 error : 35  , type 1 error: 2  , accuracy : 0.8741496598639455\n",
      "Errors at threshold  0.5700000000000003 : 37  , type 2 error : 35  , type 1 error: 2  , accuracy : 0.8741496598639455\n",
      "Errors at threshold  0.5800000000000003 : 37  , type 2 error : 35  , type 1 error: 2  , accuracy : 0.8741496598639455\n",
      "Errors at threshold  0.5900000000000003 : 39  , type 2 error : 37  , type 1 error: 2  , accuracy : 0.8673469387755102\n",
      "Errors at threshold  0.6000000000000003 : 37  , type 2 error : 37  , type 1 error: 0  , accuracy : 0.8741496598639455\n",
      "Errors at threshold  0.6100000000000003 : 37  , type 2 error : 37  , type 1 error: 0  , accuracy : 0.8741496598639455\n",
      "Errors at threshold  0.6200000000000003 : 40  , type 2 error : 40  , type 1 error: 0  , accuracy : 0.8639455782312925\n",
      "Errors at threshold  0.6300000000000003 : 40  , type 2 error : 40  , type 1 error: 0  , accuracy : 0.8639455782312925\n",
      "Errors at threshold  0.6400000000000003 : 41  , type 2 error : 41  , type 1 error: 0  , accuracy : 0.8605442176870748\n",
      "Errors at threshold  0.6500000000000004 : 42  , type 2 error : 42  , type 1 error: 0  , accuracy : 0.8571428571428571\n",
      "Errors at threshold  0.6600000000000004 : 42  , type 2 error : 42  , type 1 error: 0  , accuracy : 0.8571428571428571\n",
      "Errors at threshold  0.6700000000000004 : 42  , type 2 error : 42  , type 1 error: 0  , accuracy : 0.8571428571428571\n",
      "Errors at threshold  0.6800000000000004 : 43  , type 2 error : 43  , type 1 error: 0  , accuracy : 0.8537414965986394\n",
      "Errors at threshold  0.6900000000000004 : 43  , type 2 error : 43  , type 1 error: 0  , accuracy : 0.8537414965986394\n",
      "Errors at threshold  0.7000000000000004 : 44  , type 2 error : 44  , type 1 error: 0  , accuracy : 0.8503401360544217\n"
     ]
    }
   ],
   "source": [
    "y_pred_prob = lg_model.predict_proba(X_test)\n",
    "\n",
    "for a in np.arange(0.3,0.71,0.01):\n",
    "    predict_mine = np.where(y_pred_prob[:,1] > a, 1, 0)\n",
    "    cfm=confusion_matrix(Y_test, predict_mine)\n",
    "    total_err=cfm[0,1]+cfm[1,0]\n",
    "    print(\"Errors at threshold \", a, \":\",total_err, \" , type 2 error :\",\n",
    "    cfm[1,0],\" , type 1 error:\", cfm[0,1], \" , accuracy :\",(cfm[0,0]+cfm[1,1])/(cfm[0,0]+cfm[0,1]+cfm[1,0]+cfm[1,1]))"
   ]
  },
  {
   "cell_type": "markdown",
   "metadata": {},
   "source": [
    "## *Decision Tree*"
   ]
  },
  {
   "cell_type": "code",
   "execution_count": 22,
   "metadata": {},
   "outputs": [],
   "source": [
    "from sklearn.tree import DecisionTreeClassifier\n",
    "\n",
    "model_DecisionTree = DecisionTreeClassifier(criterion=\"gini\", random_state=10) #gini is default\n",
    "\n",
    "#fit the model on the data and predict the values\n",
    "model_DecisionTree.fit(X_train,Y_train)\n",
    "dt_Y_pred=model_DecisionTree.predict(X_test)"
   ]
  },
  {
   "cell_type": "code",
   "execution_count": 23,
   "metadata": {},
   "outputs": [
    {
     "name": "stdout",
     "output_type": "stream",
     "text": [
      "Confusion Matrix\n",
      "\tPredicted\n",
      "Actual\n",
      "[[210  29]\n",
      " [ 28  27]]\n",
      "Classification report:\n",
      "              precision    recall  f1-score   support\n",
      "\n",
      "           0       0.88      0.88      0.88       239\n",
      "           1       0.48      0.49      0.49        55\n",
      "\n",
      "   micro avg       0.81      0.81      0.81       294\n",
      "   macro avg       0.68      0.68      0.68       294\n",
      "weighted avg       0.81      0.81      0.81       294\n",
      "\n",
      "Accuracy: 0.8061224489795918\n"
     ]
    }
   ],
   "source": [
    "from sklearn.metrics import classification_report,accuracy_score,confusion_matrix\n",
    "print(\"Confusion Matrix\\n\\tPredicted\\nActual\")\n",
    "cfm=confusion_matrix(Y_test,dt_Y_pred)\n",
    "print(cfm)\n",
    "\n",
    "print(\"Classification report:\")\n",
    "print(classification_report(Y_test,dt_Y_pred))\n",
    "\n",
    "acc=accuracy_score(Y_test,dt_Y_pred)\n",
    "print(\"Accuracy:\",acc)"
   ]
  },
  {
   "cell_type": "markdown",
   "metadata": {},
   "source": [
    "## *Random Forest*"
   ]
  },
  {
   "cell_type": "code",
   "execution_count": 24,
   "metadata": {},
   "outputs": [],
   "source": [
    "from sklearn.ensemble import RandomForestClassifier\n",
    "rf_classifier = RandomForestClassifier(n_estimators = 100, criterion = 'entropy', random_state = 0)\n",
    "rf_classifier.fit(X,Y)\n",
    "Y_pred_RF = rf_classifier.predict(X_test)"
   ]
  },
  {
   "cell_type": "code",
   "execution_count": 25,
   "metadata": {},
   "outputs": [
    {
     "name": "stdout",
     "output_type": "stream",
     "text": [
      "Confusion Matrix\n",
      "\tPredicted\n",
      "Actual\n",
      "[[239   0]\n",
      " [  0  55]]\n",
      "Classification report:\n",
      "              precision    recall  f1-score   support\n",
      "\n",
      "           0       1.00      1.00      1.00       239\n",
      "           1       1.00      1.00      1.00        55\n",
      "\n",
      "   micro avg       1.00      1.00      1.00       294\n",
      "   macro avg       1.00      1.00      1.00       294\n",
      "weighted avg       1.00      1.00      1.00       294\n",
      "\n",
      "Accuracy: 1.0\n"
     ]
    }
   ],
   "source": [
    "from sklearn.metrics import classification_report,accuracy_score,confusion_matrix\n",
    "print(\"Confusion Matrix\\n\\tPredicted\\nActual\")\n",
    "cfm=confusion_matrix(Y_test,Y_pred_RF)\n",
    "print(cfm)\n",
    "\n",
    "print(\"Classification report:\")\n",
    "print(classification_report(Y_test,Y_pred_RF))\n",
    "\n",
    "acc=accuracy_score(Y_test,Y_pred_RF)\n",
    "print(\"Accuracy:\",acc)"
   ]
  },
  {
   "cell_type": "markdown",
   "metadata": {},
   "source": [
    "### RandomForestClassifier has better accuracy, however to test the consistency of the accuracy we will also try K Fold cross validation"
   ]
  },
  {
   "cell_type": "code",
   "execution_count": 26,
   "metadata": {},
   "outputs": [
    {
     "data": {
      "text/plain": [
       "array([0.86054422, 0.85034014, 0.85034014, 0.86054422, 0.8537415 ])"
      ]
     },
     "execution_count": 26,
     "metadata": {},
     "output_type": "execute_result"
    }
   ],
   "source": [
    "from sklearn.model_selection import ShuffleSplit\n",
    "from sklearn.model_selection import cross_val_score\n",
    "\n",
    "cv = ShuffleSplit(n_splits=5, test_size=0.2, random_state=10)\n",
    "\n",
    "cross_val_score(RandomForestClassifier(),X,Y, cv=cv)"
   ]
  },
  {
   "cell_type": "markdown",
   "metadata": {},
   "source": [
    "## Upsampling the data"
   ]
  },
  {
   "cell_type": "code",
   "execution_count": 27,
   "metadata": {},
   "outputs": [],
   "source": [
    "new_df=df.copy()"
   ]
  },
  {
   "cell_type": "code",
   "execution_count": 28,
   "metadata": {},
   "outputs": [
    {
     "data": {
      "text/plain": [
       "0    1233\n",
       "1     237\n",
       "Name: Attrition, dtype: int64"
      ]
     },
     "execution_count": 28,
     "metadata": {},
     "output_type": "execute_result"
    }
   ],
   "source": [
    "new_df['Attrition'].value_counts()"
   ]
  },
  {
   "cell_type": "code",
   "execution_count": 29,
   "metadata": {},
   "outputs": [
    {
     "data": {
      "text/plain": [
       "1    1233\n",
       "0    1233\n",
       "Name: Attrition, dtype: int64"
      ]
     },
     "execution_count": 29,
     "metadata": {},
     "output_type": "execute_result"
    }
   ],
   "source": [
    "#Trying upsampling\n",
    "from sklearn.utils import resample\n",
    "# Separate majority and minority classes\n",
    "df_majority = new_df[new_df.Attrition==0]\n",
    "df_minority = new_df[new_df.Attrition==1]\n",
    "\n",
    "# Upsample minority class\n",
    "df_minority_upsampled = resample(df_minority,\n",
    "replace=True, # sample with replacement\n",
    "n_samples=1233, # to match majority class\n",
    "random_state=10) # reproducible results\n",
    "\n",
    "# Combine majority class with upsampled minority class\n",
    "df_upsampled = pd.concat([df_majority, df_minority_upsampled])\n",
    "\n",
    "# Display new class counts\n",
    "df_upsampled.Attrition.value_counts()"
   ]
  },
  {
   "cell_type": "code",
   "execution_count": 30,
   "metadata": {},
   "outputs": [],
   "source": [
    "upsampled_x=df_upsampled.drop([\"Attrition\"],axis=1)\n",
    "upsampled_y=df_upsampled[\"Attrition\"]"
   ]
  },
  {
   "cell_type": "code",
   "execution_count": 31,
   "metadata": {},
   "outputs": [],
   "source": [
    "from sklearn.model_selection import train_test_split\n",
    "upsampled_X_train,upsampled_X_test,upsampled_Y_train,upsampled_Y_test=train_test_split(upsampled_x,upsampled_y,test_size=0.2,random_state=10)"
   ]
  },
  {
   "cell_type": "markdown",
   "metadata": {},
   "source": [
    "## *Logistic Regression on upsampled data*"
   ]
  },
  {
   "cell_type": "code",
   "execution_count": 32,
   "metadata": {},
   "outputs": [],
   "source": [
    "from sklearn.linear_model import LogisticRegression\n",
    "lg_model2=LogisticRegression()\n",
    "lg_model2.fit(upsampled_X_train,upsampled_Y_train)\n",
    "upsampled_y_pred=lg_model2.predict(upsampled_X_test)"
   ]
  },
  {
   "cell_type": "code",
   "execution_count": 33,
   "metadata": {},
   "outputs": [
    {
     "name": "stdout",
     "output_type": "stream",
     "text": [
      "Confusion Matrix\n",
      "\tPredicted\n",
      "Actual\n",
      "[[202  53]\n",
      " [ 50 189]]\n",
      "Classification report:\n",
      "              precision    recall  f1-score   support\n",
      "\n",
      "           0       0.80      0.79      0.80       255\n",
      "           1       0.78      0.79      0.79       239\n",
      "\n",
      "   micro avg       0.79      0.79      0.79       494\n",
      "   macro avg       0.79      0.79      0.79       494\n",
      "weighted avg       0.79      0.79      0.79       494\n",
      "\n",
      "Accuracy: 0.791497975708502\n"
     ]
    }
   ],
   "source": [
    "from sklearn.metrics import classification_report,accuracy_score,confusion_matrix\n",
    "print(\"Confusion Matrix\\n\\tPredicted\\nActual\")\n",
    "cfm=confusion_matrix(upsampled_Y_test,upsampled_y_pred)\n",
    "print(cfm)\n",
    "\n",
    "print(\"Classification report:\")\n",
    "print(classification_report(upsampled_Y_test,upsampled_y_pred))\n",
    "\n",
    "acc=accuracy_score(upsampled_Y_test,upsampled_y_pred)\n",
    "print(\"Accuracy:\",acc)"
   ]
  },
  {
   "cell_type": "markdown",
   "metadata": {},
   "source": [
    "## *KNN on upsampled data*"
   ]
  },
  {
   "cell_type": "code",
   "execution_count": 34,
   "metadata": {},
   "outputs": [
    {
     "name": "stdout",
     "output_type": "stream",
     "text": [
      "Accuracy is  0.791497975708502 for K-Value: 1\n",
      "Accuracy is  0.791497975708502 for K-Value: 2\n",
      "Accuracy is  0.791497975708502 for K-Value: 3\n",
      "Accuracy is  0.791497975708502 for K-Value: 4\n",
      "Accuracy is  0.791497975708502 for K-Value: 5\n",
      "Accuracy is  0.791497975708502 for K-Value: 6\n",
      "Accuracy is  0.791497975708502 for K-Value: 7\n",
      "Accuracy is  0.791497975708502 for K-Value: 8\n",
      "Accuracy is  0.791497975708502 for K-Value: 9\n",
      "Accuracy is  0.791497975708502 for K-Value: 10\n",
      "Accuracy is  0.791497975708502 for K-Value: 11\n",
      "Accuracy is  0.791497975708502 for K-Value: 12\n",
      "Accuracy is  0.791497975708502 for K-Value: 13\n",
      "Accuracy is  0.791497975708502 for K-Value: 14\n",
      "Accuracy is  0.791497975708502 for K-Value: 15\n",
      "Accuracy is  0.791497975708502 for K-Value: 16\n",
      "Accuracy is  0.791497975708502 for K-Value: 17\n",
      "Accuracy is  0.791497975708502 for K-Value: 18\n",
      "Accuracy is  0.791497975708502 for K-Value: 19\n",
      "Accuracy is  0.791497975708502 for K-Value: 20\n",
      "Accuracy is  0.791497975708502 for K-Value: 21\n",
      "Accuracy is  0.791497975708502 for K-Value: 22\n",
      "Accuracy is  0.791497975708502 for K-Value: 23\n",
      "Accuracy is  0.791497975708502 for K-Value: 24\n",
      "Accuracy is  0.791497975708502 for K-Value: 25\n",
      "Accuracy is  0.791497975708502 for K-Value: 26\n",
      "Accuracy is  0.791497975708502 for K-Value: 27\n",
      "Accuracy is  0.791497975708502 for K-Value: 28\n",
      "Accuracy is  0.791497975708502 for K-Value: 29\n"
     ]
    }
   ],
   "source": [
    "from sklearn.metrics import accuracy_score\n",
    "from sklearn.neighbors import KNeighborsClassifier\n",
    "\n",
    "for K in range(1,30):         #traversing k value 1-31..26,28 giving same accuracy but take 26 as it is nearest value\n",
    "    model_KNN = KNeighborsClassifier(K,metric=\"euclidean\")\n",
    "    model_KNN.fit(upsampled_X_train,upsampled_Y_train)\n",
    "    Y_pred = model_KNN.predict(upsampled_X_test)\n",
    "    print (\"Accuracy is \", accuracy_score(upsampled_Y_test,upsampled_y_pred), \"for K-Value:\",K)"
   ]
  },
  {
   "cell_type": "markdown",
   "metadata": {},
   "source": [
    "## *Decision Tree on upsampled data*"
   ]
  },
  {
   "cell_type": "code",
   "execution_count": 35,
   "metadata": {},
   "outputs": [],
   "source": [
    "from sklearn.tree import DecisionTreeClassifier\n",
    "\n",
    "model_DecisionTree2 = DecisionTreeClassifier(criterion=\"gini\", random_state=10) #gini is default\n",
    "\n",
    "#fit the model on the data and predict the values\n",
    "model_DecisionTree2.fit(upsampled_X_train,upsampled_Y_train)\n",
    "upsampled_dt_Y_pred=model_DecisionTree2.predict(upsampled_X_test)"
   ]
  },
  {
   "cell_type": "code",
   "execution_count": 36,
   "metadata": {},
   "outputs": [
    {
     "name": "stdout",
     "output_type": "stream",
     "text": [
      "Confusion Matrix\n",
      "\tPredicted\n",
      "Actual\n",
      "[[215  40]\n",
      " [  1 238]]\n",
      "Classification report:\n",
      "              precision    recall  f1-score   support\n",
      "\n",
      "           0       1.00      0.84      0.91       255\n",
      "           1       0.86      1.00      0.92       239\n",
      "\n",
      "   micro avg       0.92      0.92      0.92       494\n",
      "   macro avg       0.93      0.92      0.92       494\n",
      "weighted avg       0.93      0.92      0.92       494\n",
      "\n",
      "Accuracy: 0.917004048582996\n"
     ]
    }
   ],
   "source": [
    "from sklearn.metrics import classification_report,accuracy_score,confusion_matrix\n",
    "print(\"Confusion Matrix\\n\\tPredicted\\nActual\")\n",
    "cfm=confusion_matrix(upsampled_Y_test,upsampled_dt_Y_pred)\n",
    "print(cfm)\n",
    "\n",
    "print(\"Classification report:\")\n",
    "print(classification_report(upsampled_Y_test,upsampled_dt_Y_pred))\n",
    "\n",
    "acc=accuracy_score(upsampled_Y_test,upsampled_dt_Y_pred)\n",
    "print(\"Accuracy:\",acc)"
   ]
  },
  {
   "cell_type": "markdown",
   "metadata": {},
   "source": [
    "## *Random Forest on upsampled data*"
   ]
  },
  {
   "cell_type": "code",
   "execution_count": 37,
   "metadata": {},
   "outputs": [],
   "source": [
    "from sklearn.ensemble import RandomForestClassifier\n",
    "rf_classifier2 = RandomForestClassifier(n_estimators = 100, criterion = 'entropy')\n",
    "rf_classifier2.fit(upsampled_X_train,upsampled_Y_train)\n",
    "Y_pred_RF = rf_classifier2.predict(upsampled_X_test)\n"
   ]
  },
  {
   "cell_type": "code",
   "execution_count": 38,
   "metadata": {},
   "outputs": [
    {
     "name": "stdout",
     "output_type": "stream",
     "text": [
      "Confusion Matrix\n",
      "\tPredicted\n",
      "Actual\n",
      "[[240  15]\n",
      " [  1 238]]\n",
      "Classification report:\n",
      "              precision    recall  f1-score   support\n",
      "\n",
      "           0       1.00      0.94      0.97       255\n",
      "           1       0.94      1.00      0.97       239\n",
      "\n",
      "   micro avg       0.97      0.97      0.97       494\n",
      "   macro avg       0.97      0.97      0.97       494\n",
      "weighted avg       0.97      0.97      0.97       494\n",
      "\n",
      "Accuracy: 0.9676113360323887\n"
     ]
    }
   ],
   "source": [
    "from sklearn.metrics import classification_report,accuracy_score,confusion_matrix\n",
    "print(\"Confusion Matrix\\n\\tPredicted\\nActual\")\n",
    "cfm=confusion_matrix(upsampled_Y_test,Y_pred_RF)\n",
    "print(cfm)\n",
    "\n",
    "print(\"Classification report:\")\n",
    "print(classification_report(upsampled_Y_test,Y_pred_RF))\n",
    "\n",
    "acc=accuracy_score(upsampled_Y_test,Y_pred_RF)\n",
    "\n",
    "print(\"Accuracy:\",acc)"
   ]
  },
  {
   "cell_type": "markdown",
   "metadata": {},
   "source": [
    "### Since RandomForestClassifier is giving us better accuracy, we will try hyper parameter tuning"
   ]
  },
  {
   "cell_type": "code",
   "execution_count": 39,
   "metadata": {},
   "outputs": [],
   "source": [
    "#Original Dataset\n",
    "from sklearn.model_selection import GridSearchCV\n",
    "parameters=[{'n_estimators':[10,20,50,100,200],'criterion':['entropy','gini'],'max_depth':[4,5,6,7,8,9,10]}]\n",
    "grid_search=GridSearchCV(estimator=RandomForestClassifier(),param_grid=parameters,scoring='accuracy',cv=3,n_jobs=-1)\n",
    "grid_search=grid_search.fit(X,Y)"
   ]
  },
  {
   "cell_type": "code",
   "execution_count": 40,
   "metadata": {},
   "outputs": [
    {
     "name": "stdout",
     "output_type": "stream",
     "text": [
      "0.8653061224489796\n",
      "{'criterion': 'gini', 'max_depth': 10, 'n_estimators': 50}\n"
     ]
    }
   ],
   "source": [
    "print(grid_search.best_score_)\n",
    "print(grid_search.best_params_)"
   ]
  },
  {
   "cell_type": "code",
   "execution_count": 41,
   "metadata": {},
   "outputs": [],
   "source": [
    "#Upsampled Dataset\n",
    "from sklearn.model_selection import GridSearchCV\n",
    "parameters=[{'n_estimators':[10,20,50,100,200],'criterion':['entropy','gini'],'max_depth':[4,5,6,7,8,9,10]}]\n",
    "grid_search=GridSearchCV(estimator=RandomForestClassifier(),param_grid=parameters,scoring='accuracy',cv=3,n_jobs=-1)\n",
    "grid_search=grid_search.fit(upsampled_x,upsampled_y)"
   ]
  },
  {
   "cell_type": "code",
   "execution_count": 42,
   "metadata": {},
   "outputs": [
    {
     "name": "stdout",
     "output_type": "stream",
     "text": [
      "0.9566098945660989\n",
      "{'criterion': 'gini', 'max_depth': 10, 'n_estimators': 200}\n"
     ]
    }
   ],
   "source": [
    "print(grid_search.best_score_)\n",
    "print(grid_search.best_params_)"
   ]
  },
  {
   "cell_type": "markdown",
   "metadata": {},
   "source": [
    "### RandomForestClassifier built on upsampled data has better accuracy, however to test the consistency of the accuracy we will also try K Fold cross validation"
   ]
  },
  {
   "cell_type": "markdown",
   "metadata": {},
   "source": [
    "### K Fold cross validation on upsampled data"
   ]
  },
  {
   "cell_type": "code",
   "execution_count": 43,
   "metadata": {},
   "outputs": [
    {
     "data": {
      "text/plain": [
       "array([0.95951417, 0.95748988, 0.96963563, 0.96963563, 0.96153846])"
      ]
     },
     "execution_count": 43,
     "metadata": {},
     "output_type": "execute_result"
    }
   ],
   "source": [
    "from sklearn.model_selection import ShuffleSplit\n",
    "from sklearn.model_selection import cross_val_score\n",
    "\n",
    "cv = ShuffleSplit(n_splits=5, test_size=0.2, random_state=10)\n",
    "\n",
    "cross_val_score(RandomForestClassifier(n_estimators = 100, criterion = 'gini', max_depth=10), upsampled_x, upsampled_y, cv=cv)"
   ]
  },
  {
   "cell_type": "markdown",
   "metadata": {},
   "source": [
    "## Our final model"
   ]
  },
  {
   "cell_type": "code",
   "execution_count": 44,
   "metadata": {},
   "outputs": [
    {
     "data": {
      "text/plain": [
       "RandomForestClassifier(bootstrap=True, class_weight=None, criterion='gini',\n",
       "            max_depth=10, max_features='auto', max_leaf_nodes=None,\n",
       "            min_impurity_decrease=0.0, min_impurity_split=None,\n",
       "            min_samples_leaf=1, min_samples_split=2,\n",
       "            min_weight_fraction_leaf=0.0, n_estimators=100, n_jobs=None,\n",
       "            oob_score=False, random_state=None, verbose=0,\n",
       "            warm_start=False)"
      ]
     },
     "execution_count": 44,
     "metadata": {},
     "output_type": "execute_result"
    }
   ],
   "source": [
    "from sklearn.ensemble import RandomForestClassifier\n",
    "rf_classifier2 = RandomForestClassifier(n_estimators = 100, criterion = 'gini', max_depth=10)\n",
    "rf_classifier2.fit(upsampled_X_train,upsampled_Y_train)\n"
   ]
  },
  {
   "cell_type": "markdown",
   "metadata": {},
   "source": [
    "### Evaluation on upsampled data"
   ]
  },
  {
   "cell_type": "code",
   "execution_count": 45,
   "metadata": {},
   "outputs": [
    {
     "name": "stdout",
     "output_type": "stream",
     "text": [
      "Confusion Matrix\n",
      "\tPredicted\n",
      "Actual\n",
      "[[235  20]\n",
      " [  4 235]]\n",
      "Classification report:\n",
      "              precision    recall  f1-score   support\n",
      "\n",
      "           0       0.98      0.92      0.95       255\n",
      "           1       0.92      0.98      0.95       239\n",
      "\n",
      "   micro avg       0.95      0.95      0.95       494\n",
      "   macro avg       0.95      0.95      0.95       494\n",
      "weighted avg       0.95      0.95      0.95       494\n",
      "\n",
      "Accuracy: 0.951417004048583\n"
     ]
    }
   ],
   "source": [
    "Y_pred_RF = rf_classifier2.predict(upsampled_X_test)\n",
    "from sklearn.metrics import classification_report,accuracy_score,confusion_matrix\n",
    "print(\"Confusion Matrix\\n\\tPredicted\\nActual\")\n",
    "cfm=confusion_matrix(upsampled_Y_test,Y_pred_RF)\n",
    "print(cfm)\n",
    "\n",
    "print(\"Classification report:\")\n",
    "print(classification_report(upsampled_Y_test,Y_pred_RF))\n",
    "\n",
    "acc=accuracy_score(upsampled_Y_test,Y_pred_RF)\n",
    "\n",
    "print(\"Accuracy:\",acc)"
   ]
  },
  {
   "cell_type": "markdown",
   "metadata": {},
   "source": [
    "### Evaluation on original data"
   ]
  },
  {
   "cell_type": "code",
   "execution_count": 46,
   "metadata": {},
   "outputs": [
    {
     "name": "stdout",
     "output_type": "stream",
     "text": [
      "Confusion Matrix\n",
      "\tPredicted\n",
      "Actual\n",
      "[[235   4]\n",
      " [  1  54]]\n",
      "Classification report:\n",
      "              precision    recall  f1-score   support\n",
      "\n",
      "           0       1.00      0.98      0.99       239\n",
      "           1       0.93      0.98      0.96        55\n",
      "\n",
      "   micro avg       0.98      0.98      0.98       294\n",
      "   macro avg       0.96      0.98      0.97       294\n",
      "weighted avg       0.98      0.98      0.98       294\n",
      "\n",
      "Accuracy: 0.9829931972789115\n"
     ]
    }
   ],
   "source": [
    "Y_pred_RF = rf_classifier2.predict(X_test)\n",
    "from sklearn.metrics import classification_report,accuracy_score,confusion_matrix\n",
    "print(\"Confusion Matrix\\n\\tPredicted\\nActual\")\n",
    "cfm=confusion_matrix(Y_test,Y_pred_RF)\n",
    "print(cfm)\n",
    "\n",
    "print(\"Classification report:\")\n",
    "print(classification_report(Y_test,Y_pred_RF))\n",
    "\n",
    "acc=accuracy_score(Y_test,Y_pred_RF)\n",
    "print(\"Accuracy:\",acc)"
   ]
  },
  {
   "cell_type": "code",
   "execution_count": 47,
   "metadata": {},
   "outputs": [
    {
     "data": {
      "text/plain": [
       "array(['Age', 'DistanceFromHome', 'Education', 'EnvironmentSatisfaction',\n",
       "       'JobInvolvement', 'JobLevel', 'JobSatisfaction', 'MonthlyIncome',\n",
       "       'NumCompaniesWorked', 'PercentSalaryHike', 'PerformanceRating',\n",
       "       'RelationshipSatisfaction', 'TotalWorkingYears',\n",
       "       'TrainingTimesLastYear', 'WorkLifeBalance', 'YearsAtCompany',\n",
       "       'YearsInCurrentRole', 'YearsSinceLastPromotion',\n",
       "       'YearsWithCurrManager', 'Non-Travel', 'Travel_Frequently',\n",
       "       'Travel_Rarely', 'Human Resources', 'Research & Development',\n",
       "       'Sales', 'Human Resources', 'Life Sciences', 'Marketing',\n",
       "       'Medical', 'Other', 'Technical Degree', 'Female', 'Male',\n",
       "       'Healthcare Representative', 'Human Resources',\n",
       "       'Laboratory Technician', 'Manager', 'Manufacturing Director',\n",
       "       'Research Director', 'Research Scientist', 'Sales Executive',\n",
       "       'Sales Representative', 'Divorced', 'Married', 'Single', 'No',\n",
       "       'Yes'], dtype=object)"
      ]
     },
     "execution_count": 47,
     "metadata": {},
     "output_type": "execute_result"
    }
   ],
   "source": [
    "X.columns.values"
   ]
  },
  {
   "cell_type": "code",
   "execution_count": 48,
   "metadata": {},
   "outputs": [],
   "source": [
    "def predict_class(Age=45, DistanceFromHome=3, Education=2, EnvironmentSatisfaction=4, \n",
    "                  JobInvolvement=3,JobLevel=3, JobSatisfaction=3, MonthlyIncome=3000,NumCompaniesWorked=7,\n",
    "                  PercentSalaryHike=15,PerformanceRating=3,RelationshipSatisfaction=3,\n",
    "                  TotalWorkingYears=10, TrainingTimesLastYear=5, WorkLifeBalance=3,YearsAtCompany=10,YearsInCurrentRole=7,\n",
    "                  YearsSinceLastPromotion=7,YearsWithCurrManager=7,BusinessTravel='Travel_Rarely', Department='Sales', \n",
    "                  EducationField='Marketing', Gender='Male', \n",
    "                  JobRole='Sales Executive', MaritalStatus= 'Single', OverTime='Yes'\n",
    "                  ):\n",
    "  temp_array = list()\n",
    "  temp_array = [Age,DistanceFromHome,Education,EnvironmentSatisfaction,JobInvolvement,JobLevel,\n",
    "                JobSatisfaction,MonthlyIncome,NumCompaniesWorked,PercentSalaryHike,PerformanceRating,\n",
    "                RelationshipSatisfaction,TotalWorkingYears,TrainingTimesLastYear,WorkLifeBalance,\n",
    "                YearsAtCompany,YearsInCurrentRole,YearsSinceLastPromotion,YearsWithCurrManager]\n",
    "\n",
    "  # BusinessTravel 'Non-Travel', 'Travel_Frequently', 'Travel_Rarely'\n",
    "  if BusinessTravel == 'Non-Travel':\n",
    "    temp_array = temp_array + [1,0,0]\n",
    "  elif BusinessTravel == 'Travel_Frequently':\n",
    "    temp_array = temp_array + [0,1,0]\n",
    "  elif BusinessTravel == 'Travel_Rarely':\n",
    "    temp_array = temp_array + [0,0,1]\n",
    " \n",
    "  # Department 'Human Resources', 'Research & Development','Sales'\n",
    "  if Department == 'Human Resources':\n",
    "    temp_array = temp_array + [1,0,0]\n",
    "  elif Department == 'Research & Development':\n",
    "    temp_array = temp_array + [0,1,0]\n",
    "  elif Department == 'Sales':\n",
    "    temp_array = temp_array + [0,0,1]\n",
    "    \n",
    "  # EducationField 'Human Resources', 'Life Sciences', 'Marketing','Medical', 'Other', 'Technical Degree'\n",
    "  if EducationField == 'Human Resources':\n",
    "    temp_array = temp_array + [1,0,0,0,0,0]\n",
    "  elif EducationField == 'Life Sciences':\n",
    "    temp_array = temp_array + [0,1,0,0,0,0]\n",
    "  elif EducationField == 'Marketing':\n",
    "    temp_array = temp_array + [0,0,1,0,0,0]\n",
    "  elif EducationField == 'Medical':\n",
    "    temp_array = temp_array + [0,0,0,1,0,0]\n",
    "  elif EducationField == 'Other':\n",
    "    temp_array = temp_array + [0,0,0,0,1,0]\n",
    "  elif EducationField == 'Technical Degree':\n",
    "    temp_array = temp_array + [0,0,0,0,0,1]\n",
    "\n",
    "  # Gender  'Female', 'Male'\n",
    "  if Gender == 'Female':\n",
    "    temp_array = temp_array + [1,0]\n",
    "  elif Gender == 'Male':\n",
    "    temp_array = temp_array + [0,1]  \n",
    "    \n",
    "  # JobRole ''Healthcare Representative', 'Human Resources','Laboratory Technician', 'Manager', 'Manufacturing Director','Research Director', 'Research Scientist', 'Sales Executive','Sales Representative'\n",
    "  if JobRole == 'Healthcare Representative':\n",
    "    temp_array = temp_array + [1,0,0,0,0,0,0,0,0]\n",
    "  elif JobRole == 'Human Resources':\n",
    "    temp_array = temp_array + [0,1,0,0,0,0,0,0,0]\n",
    "  elif JobRole == 'Laboratory Technician':\n",
    "    temp_array = temp_array + [0,0,1,0,0,0,0,0,0]\n",
    "  elif JobRole == 'Manager':\n",
    "    temp_array = temp_array + [0,0,0,1,0,0,0,0,0]\n",
    "  elif JobRole == 'Manufacturing Director':\n",
    "    temp_array = temp_array + [0,0,0,0,1,0,0,0,0]\n",
    "  elif JobRole == 'Research Director':\n",
    "    temp_array = temp_array + [0,0,0,0,0,1,0,0,0]\n",
    "  elif JobRole =='Research Scientist':\n",
    "    temp_array = temp_array + [0,0,0,0,0,0,1,0,0]\n",
    "  elif JobRole == 'Sales Executive':\n",
    "    temp_array = temp_array + [0,0,0,0,0,0,0,1,0]\n",
    "  elif JobRole =='Sales Representative':\n",
    "    temp_array = temp_array + [0,0,0,0,0,0,0,0,1]\n",
    "\n",
    "  # MaritalStatus 'Divorced', 'Married', 'Single',\n",
    "  if MaritalStatus == 'Divorced':\n",
    "    temp_array = temp_array + [1,0,0]\n",
    "  elif MaritalStatus == 'Married':\n",
    "    temp_array = temp_array + [0,1,0]\n",
    "  elif MaritalStatus == 'Single':\n",
    "    temp_array = temp_array + [0,0,1]\n",
    "    \n",
    "  # OverTime   'No','Yes'\n",
    "  if OverTime == 'No':\n",
    "    temp_array = temp_array + [1,0]\n",
    "  elif OverTime == 'Yes':\n",
    "    temp_array = temp_array + [0,1]  \n",
    "\n",
    "  # Converting into numpy array\n",
    "  temp_array = np.array([temp_array])\n",
    "\n",
    "  # Prediction\n",
    "  return int(rf_classifier2.predict(temp_array)[0])"
   ]
  },
  {
   "cell_type": "markdown",
   "metadata": {},
   "source": [
    "### Prediction using above defined function"
   ]
  },
  {
   "cell_type": "code",
   "execution_count": 49,
   "metadata": {},
   "outputs": [],
   "source": [
    "Attrition = predict_class(Age=55, DistanceFromHome=30, Education=2, EnvironmentSatisfaction=1, \n",
    "                  JobInvolvement=1,JobLevel=1, JobSatisfaction=1, MonthlyIncome=100,NumCompaniesWorked=7,\n",
    "                  PercentSalaryHike=15,PerformanceRating=3,RelationshipSatisfaction=3,\n",
    "                  TotalWorkingYears=10, TrainingTimesLastYear=5, WorkLifeBalance=3,YearsAtCompany=10,YearsInCurrentRole=7,\n",
    "                  YearsSinceLastPromotion=7,YearsWithCurrManager=7,BusinessTravel='Travel_Rarely', Department='Sales', \n",
    "                  EducationField='Marketing', Gender='Male', \n",
    "                  JobRole='Sales Executive', MaritalStatus= 'Single', OverTime='Yes')"
   ]
  },
  {
   "cell_type": "code",
   "execution_count": 50,
   "metadata": {},
   "outputs": [
    {
     "data": {
      "text/plain": [
       "1"
      ]
     },
     "execution_count": 50,
     "metadata": {},
     "output_type": "execute_result"
    }
   ],
   "source": [
    "Attrition"
   ]
  },
  {
   "cell_type": "markdown",
   "metadata": {},
   "source": [
    "## Creating a pickle file for the classifier"
   ]
  },
  {
   "cell_type": "code",
   "execution_count": 51,
   "metadata": {},
   "outputs": [],
   "source": [
    "import pickle\n",
    "filename = 'emp-attrition-rf-classifier.pkl'\n",
    "pickle.dump(rf_classifier2, open(filename, 'wb'))"
   ]
  }
 ],
 "metadata": {
  "kernelspec": {
   "display_name": "Python 3",
   "language": "python",
   "name": "python3"
  },
  "language_info": {
   "codemirror_mode": {
    "name": "ipython",
    "version": 3
   },
   "file_extension": ".py",
   "mimetype": "text/x-python",
   "name": "python",
   "nbconvert_exporter": "python",
   "pygments_lexer": "ipython3",
   "version": "3.7.3"
  }
 },
 "nbformat": 4,
 "nbformat_minor": 2
}
